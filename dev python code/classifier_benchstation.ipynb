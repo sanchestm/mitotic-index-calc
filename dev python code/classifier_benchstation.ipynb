{
 "cells": [
  {
   "cell_type": "code",
   "execution_count": 1,
   "metadata": {
    "collapsed": false
   },
   "outputs": [],
   "source": [
    "from __future__ import division\n",
    "from glob import glob\n",
    "import skimage.feature as ft\n",
    "from skimage import data, color, exposure\n",
    "from scipy import misc\n",
    "\n",
    "import pandas as pd\n",
    "import numpy as np\n",
    "\n",
    "from time import time\n",
    "\n",
    "import matplotlib.pyplot as plt\n",
    "\n",
    "%matplotlib inline"
   ]
  },
  {
   "cell_type": "code",
   "execution_count": null,
   "metadata": {
    "collapsed": false
   },
   "outputs": [],
   "source": [
    "from sklearn.neighbors import KNeighborsClassifier\n",
    "from sklearn.svm import SVC\n",
    "from sklearn.svm import LinearSVC\n",
    "from sklearn.gaussian_process import GaussianProcessClassifier\n",
    "from sklearn.naive_bayes import GaussianNB\n",
    "from sklearn.tree import DecisionTreeClassifier\n",
    "from sklearn.ensemble import RandomForestClassifier\n",
    "from sklearn.linear_model import LogisticRegression\n",
    "\n",
    "from sklearn.model_selection import cross_val_score,train_test_split, GridSearchCV\n",
    "from sklearn.preprocessing import LabelEncoder\n",
    "from sklearn.decomposition import PCA"
   ]
  },
  {
   "cell_type": "code",
   "execution_count": null,
   "metadata": {
    "collapsed": false
   },
   "outputs": [],
   "source": [
    "basedir = '../../../BYindex/'\n",
    "\n",
    "directories=[basedir+\"cellsData/ClassAna\", \n",
    "             basedir+\"cellsData/Celulas classificadas - ZeH/Curva de crescimento/0dias/08-07-2016 (Menk)\",\n",
    "             basedir+\"cellsData/Celulas classificadas - ZeH/IM/16-09\",\n",
    "             basedir+\"cellsData/SC_13-07-2016\"]\n",
    "\n",
    " \n",
    "features = pd.DataFrame()\n",
    "for saveDir in directories:\n",
    "    allFiles = glob(saveDir+\"/*.csv\")\n",
    "    for file_ in allFiles:\n",
    "        df = pd.read_csv(file_,index_col=None, header=0)\n",
    "        df[\"file\"] = df.file.apply(lambda x: saveDir +'/'+ x)\n",
    "        features = pd.concat([features,df],ignore_index=True)\n",
    "        \n"
   ]
  },
  {
   "cell_type": "raw",
   "metadata": {},
   "source": [
    "features"
   ]
  },
  {
   "cell_type": "code",
   "execution_count": null,
   "metadata": {
    "collapsed": false
   },
   "outputs": [],
   "source": [
    "print(features.head())\n",
    "print(features.shape)"
   ]
  },
  {
   "cell_type": "markdown",
   "metadata": {},
   "source": [
    "# Preprocessing"
   ]
  },
  {
   "cell_type": "code",
   "execution_count": null,
   "metadata": {
    "collapsed": false
   },
   "outputs": [],
   "source": [
    "for classy in features['class'].unique():\n",
    "    print('Number of items considered '+str(classy)+':  ' +str(sum(features['class']==classy) ) )\n",
    "\n",
    "    \n",
    "print('DELETING UNALLOWED CLASSES\\n...\\n...\\n...')\n",
    "allowed_classes = ['unclassifiable','not a cell','interfase','mitose']\n",
    "\n",
    "features = features[features['class'].apply(lambda x: x in allowed_classes)]\n",
    "\n",
    "for classy in features['class'].unique():\n",
    "    print('Number of items considered '+str(classy)+':  ' +str(sum(features['class']==classy) ) )\n"
   ]
  },
  {
   "cell_type": "code",
   "execution_count": null,
   "metadata": {
    "collapsed": false
   },
   "outputs": [],
   "source": [
    "%time features[\"photo\"] = features.file.apply(lambda x: misc.imread(x))\n",
    "%time features[\"photo\"] = features.photo.apply(lambda x: x[:,:,-1])"
   ]
  },
  {
   "cell_type": "code",
   "execution_count": null,
   "metadata": {
    "collapsed": false
   },
   "outputs": [],
   "source": [
    "features['shape'] = features['photo'].apply(np.shape)\n",
    "print(np.sum(features['shape']!= (100,100)))\n",
    "features = features[features['shape']== (100,100)]"
   ]
  },
  {
   "cell_type": "code",
   "execution_count": null,
   "metadata": {
    "collapsed": false
   },
   "outputs": [],
   "source": [
    "plt.imshow(features.photo[30])\n",
    "\n",
    "def getHoG(image):\n",
    "    HOG = ft.hog(image).reshape(1,-1)\n",
    "    return HOG\n",
    "\n",
    "def getLBP(image):\n",
    "    hLBP = np.array([]).reshape(1,-1)\n",
    "    for P in range(4,20,2):\n",
    "        for R in range(2,10,2):\n",
    "            LBP = ft.local_binary_pattern(image, P, R, 'uniform').reshape(-1,1)\n",
    "            hLBP = np.hstack((np.histogram(LBP,50,range=(0,50))[0].reshape(1,-1), hLBP))\n",
    "\n",
    "    return hLBP[0]"
   ]
  },
  {
   "cell_type": "code",
   "execution_count": null,
   "metadata": {
    "collapsed": false
   },
   "outputs": [],
   "source": [
    "%time features['HoG'] = features.photo.apply(getHoG)\n",
    "%time features['LBP'] = features.photo.apply(getLBP)"
   ]
  },
  {
   "cell_type": "code",
   "execution_count": null,
   "metadata": {
    "collapsed": true
   },
   "outputs": [],
   "source": [
    "from numpy.fft import fft2\n",
    "def abs_pha_fft(image):\n",
    "    imfft = fft2(image)\n",
    "    return np.hstack([np.abs(imfft).reshape(1,-1), np.angle(imfft).reshape(1,-1)])\n",
    "features['fft'] = features.photo.apply(abs_pha_fft)"
   ]
  },
  {
   "cell_type": "code",
   "execution_count": null,
   "metadata": {
    "collapsed": false
   },
   "outputs": [],
   "source": [
    "photo_features = features.copy()\n",
    "\n",
    "phase_classes = ['interfase','mitose']\n",
    "features = features[features['class'].apply(lambda x: x in phase_classes)]\n",
    "\n",
    "LE = LabelEncoder()\n",
    "LE.fit(phase_classes)"
   ]
  },
  {
   "cell_type": "code",
   "execution_count": null,
   "metadata": {
    "collapsed": true
   },
   "outputs": [],
   "source": [
    "def isGoodPhoto(label):\n",
    "    if label in ['interfase','mitose']: return 1\n",
    "    else: return 0\n",
    "\n",
    "photo_features['class'] = photo_features['class'].apply(isGoodPhoto)"
   ]
  },
  {
   "cell_type": "markdown",
   "metadata": {},
   "source": [
    "# Feature generation"
   ]
  },
  {
   "cell_type": "code",
   "execution_count": null,
   "metadata": {
    "collapsed": true
   },
   "outputs": [],
   "source": [
    "Xhog = np.array(features.HoG.tolist())[:,0,:]\n",
    "Xlbp = np.array(features.LBP.tolist())[:,:]\n",
    "FFT = np.array(features.fft.tolist())[:,0,:]\n",
    "\n",
    "\n",
    "Xfft = np.hstack([FFT,Xhog,Xlbp])"
   ]
  },
  {
   "cell_type": "code",
   "execution_count": null,
   "metadata": {
    "collapsed": false
   },
   "outputs": [],
   "source": [
    "Yphoto = np.array(photo_features['class'].tolist())\n",
    "Y = np.array(LE.transform(features['class']).tolist())"
   ]
  },
  {
   "cell_type": "markdown",
   "metadata": {},
   "source": [
    "# Implementation\n"
   ]
  },
  {
   "cell_type": "markdown",
   "metadata": {
    "collapsed": false
   },
   "source": [
    "#### Suvrel"
   ]
  },
  {
   "cell_type": "code",
   "execution_count": null,
   "metadata": {
    "collapsed": false
   },
   "outputs": [],
   "source": [
    "from metriclearning import suvrel\n",
    "from sklearn.preprocessing import StandardScaler\n",
    "from sklearn.pipeline import Pipeline\n",
    "\n",
    "class Suvrel():\n",
    "    def __init__(self):\n",
    "        pass\n",
    "        \n",
    "    def fit(self,X,y):\n",
    "        self.gamma_ = suvrel(X,y)\n",
    "        \n",
    "    def transform(self,X,y = None):\n",
    "        return self.gamma_*X\n",
    "    \n",
    "    def fit_transform(self,X,y=None):\n",
    "        self.fit(X,y)\n",
    "        return self.transform(X,y)\n",
    "\n",
    "    def get_params(self,deep=True):\n",
    "        return {}\n",
    "    \n",
    "    def set_params(self):\n",
    "        return self"
   ]
  },
  {
   "cell_type": "markdown",
   "metadata": {},
   "source": [
    "#### Scaler/normalization"
   ]
  },
  {
   "cell_type": "code",
   "execution_count": null,
   "metadata": {
    "collapsed": true
   },
   "outputs": [],
   "source": [
    "suv=Suvrel()\n",
    "suv.fit(Xfft,Y)"
   ]
  },
  {
   "cell_type": "code",
   "execution_count": null,
   "metadata": {
    "collapsed": true
   },
   "outputs": [],
   "source": [
    "Xt = suv.transform(Xfft,Y)"
   ]
  },
  {
   "cell_type": "markdown",
   "metadata": {},
   "source": [
    "#### Pipeline"
   ]
  },
  {
   "cell_type": "code",
   "execution_count": null,
   "metadata": {
    "collapsed": false
   },
   "outputs": [],
   "source": [
    "classifiers = [\n",
    "    SVC(),\n",
    "    LinearSVC(),\n",
    "    DecisionTreeClassifier(),\n",
    "    LogisticRegression()\n",
    "]"
   ]
  },
  {
   "cell_type": "code",
   "execution_count": null,
   "metadata": {
    "collapsed": false
   },
   "outputs": [],
   "source": [
    "suvel_transform = Suvrel()\n",
    "scaler = StandardScaler()\n",
    "pca = PCA(n_components=1200)\n",
    "\n",
    "\n",
    "noScaleResults = []\n",
    "scaledResults = []\n",
    "pcaResults = []\n",
    "\n",
    "for clf in classifiers:\n",
    "    noScalePipe = Pipeline([('suv', suvel_transform),('classifier',clf)])\n",
    "    scalePipe = Pipeline([ ('scaler',scaler), ('suv',suvel_transform) ,('classifier',clf)] )\n",
    "    pcaPipe = Pipeline([ ('scaler',scaler), ('suv',suvel_transform), ('pca', pca),('classifier',clf)] )\n",
    "    \n",
    "    noScaleResults.append(cross_val_score(noScalePipe,Xfft,Y,cv=5,scoring='f1') )\n",
    "    scaledResults.append(cross_val_score(scalePipe,Xfft,Y,cv=5,scoring='f1') )\n",
    "    pcaResults.append(cross_val_score(pcaPipe,Xfft,Y,cv=5,scoring='f1') )\n",
    "    \n",
    "noScaleResults = np.array(noScaleResults)\n",
    "scaledResults = np.array(scaledResults)\n",
    "pcaResults = np.array(pcaResults)"
   ]
  },
  {
   "cell_type": "code",
   "execution_count": null,
   "metadata": {
    "collapsed": false
   },
   "outputs": [],
   "source": [
    "print(noScaleResults)\n",
    "print(noScaleResults.mean(axis=1))\n",
    "print(noScaleResults.std(axis=1))"
   ]
  },
  {
   "cell_type": "code",
   "execution_count": null,
   "metadata": {
    "collapsed": false
   },
   "outputs": [],
   "source": [
    "print(scaledResults)\n",
    "print(scaledResults.mean(axis=1))\n",
    "print(scaledResults.std(axis=1))"
   ]
  },
  {
   "cell_type": "code",
   "execution_count": null,
   "metadata": {
    "collapsed": false
   },
   "outputs": [],
   "source": [
    "print(pcaResults)\n",
    "print(pcaResults.mean(axis=1))\n",
    "print(pcaResults.std(axis=1))"
   ]
  },
  {
   "cell_type": "code",
   "execution_count": null,
   "metadata": {
    "collapsed": false
   },
   "outputs": [],
   "source": [
    "%%time\n",
    "params = {'clf__C':[0.01,0.1,1,2,3],'clf__class_weight':[{0:1,1:1},'balanced']}\n",
    "suvrel_transform = Suvrel()\n",
    "scaler = StandardScaler()\n",
    "pca = PCA(n_components=1200)\n",
    "\n",
    "clf1 = Pipeline([ ('scaler',scaler), ('suv',suvrel_transform), ('pca', pca),('clf',LinearSVC())] )\n",
    "grid1 = GridSearchCV(clf1,params,cv=5,scoring='f1')\n",
    "grid1.fit(Xfft,Y)\n",
    "\n",
    "clf2 = Pipeline([ ('scaler',scaler), ('suv',suvrel_transform), ('pca', pca),('clf',LogisticRegression()) ] )\n",
    "grid2 = GridSearchCV(clf2,params,cv=5,scoring='f1')\n",
    "grid2.fit(Xfft,Y)\n",
    "\n",
    "print('Melhores parametros SVC: ')\n",
    "print(grid1.best_params_)\n",
    "print('Melhores parametros Regressao Logistica: ')\n",
    "print(grid2.best_params_)"
   ]
  },
  {
   "cell_type": "code",
   "execution_count": null,
   "metadata": {
    "collapsed": false
   },
   "outputs": [],
   "source": [
    "clflogist = Pipeline([ ('scaler',scaler), ('suv',suvrel_transform), ('pca', pca),('clf',LogisticRegression(C=3,class_weight='balanced')) ] )\n",
    "regresult = cross_val_score(clflogist,Xfft,Y,cv=5,scoring='f1')\n",
    "regresult"
   ]
  },
  {
   "cell_type": "code",
   "execution_count": null,
   "metadata": {
    "collapsed": false
   },
   "outputs": [],
   "source": [
    "print(regresult.mean())\n",
    "print(regresult.std())"
   ]
  },
  {
   "cell_type": "code",
   "execution_count": null,
   "metadata": {
    "collapsed": false
   },
   "outputs": [],
   "source": [
    "clfsvc = Pipeline([ ('scaler',scaler), ('suv',suvrel_transform), ('pca', pca),('clf',LinearSVC(C=2,class_weight='balanced')) ] )\n",
    "svcresult = cross_val_score(clfsvc,Xfft,Y,cv=5,scoring='f1')\n",
    "svcresult"
   ]
  },
  {
   "cell_type": "code",
   "execution_count": null,
   "metadata": {
    "collapsed": false
   },
   "outputs": [],
   "source": [
    "print(svcresult.mean())\n",
    "print(svcresult.std())"
   ]
  },
  {
   "cell_type": "code",
   "execution_count": null,
   "metadata": {
    "collapsed": false
   },
   "outputs": [],
   "source": [
    "clfsvc.fit(Xfft[:1300,:],Y[:1300])\n",
    "ypred = clfsvc.predict(Xfft[1300:,:])"
   ]
  },
  {
   "cell_type": "code",
   "execution_count": null,
   "metadata": {
    "collapsed": false
   },
   "outputs": [],
   "source": [
    "from sklearn.metrics import confusion_matrix\n",
    "confusion_matrix(Y[1300:],ypred)"
   ]
  },
  {
   "cell_type": "code",
   "execution_count": null,
   "metadata": {
    "collapsed": false
   },
   "outputs": [],
   "source": [
    "434/513"
   ]
  },
  {
   "cell_type": "code",
   "execution_count": null,
   "metadata": {
    "collapsed": false
   },
   "outputs": [],
   "source": [
    "127/185"
   ]
  },
  {
   "cell_type": "code",
   "execution_count": null,
   "metadata": {
    "collapsed": false
   },
   "outputs": [],
   "source": [
    "307/328"
   ]
  },
  {
   "cell_type": "markdown",
   "metadata": {},
   "source": [
    "# Free Visualization"
   ]
  },
  {
   "cell_type": "code",
   "execution_count": null,
   "metadata": {
    "collapsed": false
   },
   "outputs": [],
   "source": [
    "clf = grid.best_estimator_\n",
    "clf.fit(Xfft,Y)\n",
    "coefs = clf.coef_"
   ]
  },
  {
   "cell_type": "code",
   "execution_count": null,
   "metadata": {
    "collapsed": false
   },
   "outputs": [],
   "source": [
    "sortidx = np.argsort(np.abs(coefs))\n",
    "print(sortidx[:2])\n",
    "ids = sortidx[0,[0,2]]\n",
    "ids"
   ]
  },
  {
   "cell_type": "code",
   "execution_count": null,
   "metadata": {
    "collapsed": false
   },
   "outputs": [],
   "source": [
    "ids = sortidx[0,[1,5]]\n",
    "toPlotX = Xfft[:,ids]\n",
    "mitX = toPlotX[Y==1]\n",
    "intX = toPlotX[Y==0]\n",
    "plt.title('Most weighted features')\n",
    "plt.plot(mitX[:,0],mitX[:,1],'o',label='Mitosis')\n",
    "plt.plot(intX[:,0],intX[:,1],'x',label='Interphasis')\n",
    "plt.xlabel('Feature 25903')\n",
    "plt.ylabel('Feature 27308')\n",
    "plt.legend()"
   ]
  },
  {
   "cell_type": "code",
   "execution_count": null,
   "metadata": {
    "collapsed": false
   },
   "outputs": [],
   "source": [
    "ids = sortidx[0,[3,40]]\n",
    "toPlotX = Xfft[:,ids]\n",
    "mitX = toPlotX[Y==1]\n",
    "intX = toPlotX[Y==0]\n",
    "plt.plot(mitX[:,0],mitX[:,1],'o')\n",
    "plt.plot(intX[:,0],intX[:,1],'x')"
   ]
  },
  {
   "cell_type": "code",
   "execution_count": null,
   "metadata": {
    "collapsed": false
   },
   "outputs": [],
   "source": [
    "ids = sortidx[0,[0,2]]\n",
    "toPlotX = Xfft[:,ids]\n",
    "mitX = toPlotX[Y==1]\n",
    "intX = toPlotX[Y==0]\n",
    "plt.title('Closer look at most weighted')\n",
    "plt.plot(mitX[:,0],mitX[:,1],'o',label='Mitosis')\n",
    "plt.plot(intX[:,0],intX[:,1],'x',label='Interphasis')\n",
    "plt.xlabel('Feature 25903'); plt.xlim([0,500])\n",
    "plt.ylabel('Feature 27308'); plt.ylim([0,500])\n",
    "plt.legend()"
   ]
  },
  {
   "cell_type": "code",
   "execution_count": null,
   "metadata": {
    "collapsed": false
   },
   "outputs": [],
   "source": [
    "Xtrain,Xtest,Ytrain,Ytest = train_test_split(Xfft,Y)\n",
    "\n",
    "clf = LogisticRegression(class_weight='balanced', C = 3.8)\n",
    "clf.fit(Xtrain,Ytrain)\n",
    "coefs = clf.coef_\n",
    "sortidx = np.argsort(coefs)\n",
    "print(sortidx[:2])"
   ]
  },
  {
   "cell_type": "code",
   "execution_count": null,
   "metadata": {
    "collapsed": true
   },
   "outputs": [],
   "source": [
    "Ypred = clf.predict(Xtest)"
   ]
  },
  {
   "cell_type": "code",
   "execution_count": null,
   "metadata": {
    "collapsed": false
   },
   "outputs": [],
   "source": [
    "intX.shape"
   ]
  },
  {
   "cell_type": "code",
   "execution_count": null,
   "metadata": {
    "collapsed": false
   },
   "outputs": [],
   "source": [
    "ids=sortidx[0,[0,-1]]\n",
    "\n",
    "mitX = Xtest[Ytest==1]; mitX = mitX[:,ids]\n",
    "intX = Xtest[Ytest==0]; intX = intX[:,ids]\n",
    "\n",
    "mitrX = Xtest[np.logical_and(Ypred==1,Ytest ==1),:]; mitrX = mitrX[:,ids]\n",
    "mitwX = Xtest[np.logical_and(Ypred==0,Ytest ==1),:]; mitwX = mitwX[:,ids]\n",
    "intrX = Xtest[np.logical_and(Ypred==0,Ytest ==0),:]; intrX = intrX[:,ids]\n",
    "intwX = Xtest[np.logical_and(Ypred==1,Ytest ==0),:]; intwX = intwX[:,ids]"
   ]
  },
  {
   "cell_type": "code",
   "execution_count": null,
   "metadata": {
    "collapsed": false
   },
   "outputs": [],
   "source": [
    "mitwX.shape"
   ]
  },
  {
   "cell_type": "code",
   "execution_count": null,
   "metadata": {
    "collapsed": false
   },
   "outputs": [],
   "source": [
    "plt.title('Most relevant features')\n",
    "plt.plot(mitrX[:,0],mitrX[:,1],'o',color='blue',label='Right Mitosis')\n",
    "plt.plot(mitwX[:,0],mitwX[:,1],'o',color='red',label='Wrong Mitosis')\n",
    "plt.plot(intrX[:,0],intrX[:,1],'x',color='blue',label='Right Interphasis')\n",
    "plt.plot(intwX[:,0],intwX[:,1],'x',color='red',label='Wrong Interphasis')\n",
    "plt.xlabel('Feature 26699')\n",
    "plt.ylabel('Feature 18177')\n",
    "plt.legend()"
   ]
  },
  {
   "cell_type": "code",
   "execution_count": null,
   "metadata": {
    "collapsed": false
   },
   "outputs": [],
   "source": [
    "plt.title('Closer look at most relevant')\n",
    "plt.plot(mitrX[:,0],mitrX[:,1],'o',color='blue',label='Right Mitosis')\n",
    "plt.plot(mitwX[:,0],mitwX[:,1],'o',color='red',label='Wrong Mitosis')\n",
    "plt.plot(intrX[:,0],intrX[:,1],'x',color='blue',label='Right Interphasis')\n",
    "plt.plot(intwX[:,0],intwX[:,1],'x',color='red',label='Wrong Interphasis')\n",
    "plt.xlabel('Feature 26699')\n",
    "plt.ylabel('Feature 18177')\n",
    "plt.xlim([0,2000])\n",
    "plt.ylim([0,2000])\n",
    "plt.legend()"
   ]
  }
 ],
 "metadata": {
  "kernelspec": {
   "display_name": "Python 3",
   "language": "python",
   "name": "python3"
  },
  "language_info": {
   "codemirror_mode": {
    "name": "ipython",
    "version": 3
   },
   "file_extension": ".py",
   "mimetype": "text/x-python",
   "name": "python",
   "nbconvert_exporter": "python",
   "pygments_lexer": "ipython3",
   "version": "3.5.2+"
  }
 },
 "nbformat": 4,
 "nbformat_minor": 0
}
