{
 "cells": [
  {
   "cell_type": "code",
   "execution_count": 1,
   "metadata": {
    "collapsed": false
   },
   "outputs": [
    {
     "name": "stderr",
     "output_type": "stream",
     "text": [
      "/home/estevao/py2_kernel/local/lib/python2.7/site-packages/matplotlib/font_manager.py:273: UserWarning: Matplotlib is building the font cache using fc-list. This may take a moment.\n",
      "  warnings.warn('Matplotlib is building the font cache using fc-list. This may take a moment.')\n"
     ]
    }
   ],
   "source": [
    "from __future__ import division\n",
    "from glob import glob\n",
    "import skimage.feature as ft\n",
    "from skimage import data, color, exposure\n",
    "from scipy import misc\n",
    "\n",
    "import pandas as pd\n",
    "import numpy as np\n",
    "\n",
    "from time import time\n",
    "\n",
    "import matplotlib.pyplot as plt\n",
    "\n",
    "%matplotlib inline"
   ]
  },
  {
   "cell_type": "code",
   "execution_count": 2,
   "metadata": {
    "collapsed": false
   },
   "outputs": [],
   "source": [
    "from sklearn.neighbors import KNeighborsClassifier\n",
    "from sklearn.svm import SVC\n",
    "from sklearn.svm import LinearSVC\n",
    "from sklearn.gaussian_process import GaussianProcessClassifier\n",
    "from sklearn.naive_bayes import GaussianNB\n",
    "from sklearn.tree import DecisionTreeClassifier\n",
    "from sklearn.ensemble import RandomForestClassifier\n",
    "from sklearn.linear_model import LogisticRegression\n",
    "\n",
    "from sklearn.model_selection import cross_val_score,train_test_split, GridSearchCV\n",
    "from sklearn.preprocessing import LabelEncoder\n",
    "from sklearn.decomposition import PCA"
   ]
  },
  {
   "cell_type": "code",
   "execution_count": 3,
   "metadata": {
    "collapsed": false
   },
   "outputs": [],
   "source": [
    "basedir = '../../../BYindex/'\n",
    "\n",
    "directories=[basedir+\"cellsData/ClassAna\", \n",
    "             basedir+\"cellsData/Celulas classificadas - ZeH/Curva de crescimento/0dias/08-07-2016 (Menk)\",\n",
    "             basedir+\"cellsData/Celulas classificadas - ZeH/IM/16-09\",\n",
    "             basedir+\"cellsData/SC_13-07-2016\"]\n",
    "\n",
    " \n",
    "features = pd.DataFrame()\n",
    "for saveDir in directories:\n",
    "    allFiles = glob(saveDir+\"/*.csv\")\n",
    "    for file_ in allFiles:\n",
    "        df = pd.read_csv(file_,index_col=None, header=0)\n",
    "        df[\"file\"] = df.file.apply(lambda x: saveDir +'/'+ x)\n",
    "        features = pd.concat([features,df],ignore_index=True)\n",
    "        \n"
   ]
  },
  {
   "cell_type": "raw",
   "metadata": {},
   "source": [
    "features"
   ]
  },
  {
   "cell_type": "code",
   "execution_count": 4,
   "metadata": {
    "collapsed": false
   },
   "outputs": [
    {
     "name": "stdout",
     "output_type": "stream",
     "text": [
      "                                                file           class\n",
      "0  ../../../BYindex/cellsData/ClassAna/BY2_5dias ...  unclassifiable\n",
      "1  ../../../BYindex/cellsData/ClassAna/BY2_5dias ...      not a cell\n",
      "2  ../../../BYindex/cellsData/ClassAna/BY2_5dias ...       interfase\n",
      "3  ../../../BYindex/cellsData/ClassAna/BY2_5dias ...       interfase\n",
      "4  ../../../BYindex/cellsData/ClassAna/BY2_5dias ...       interfase\n",
      "(2673, 2)\n"
     ]
    }
   ],
   "source": [
    "print(features.head())\n",
    "print(features.shape)"
   ]
  },
  {
   "cell_type": "markdown",
   "metadata": {},
   "source": [
    "# Preprocessing"
   ]
  },
  {
   "cell_type": "code",
   "execution_count": 5,
   "metadata": {
    "collapsed": false
   },
   "outputs": [
    {
     "name": "stdout",
     "output_type": "stream",
     "text": [
      "Number of items considered unclassifiable:  52\n",
      "Number of items considered not a cell:  50\n",
      "Number of items considered interfase:  1358\n",
      "Number of items considered unknown:  753\n",
      "Number of items considered mitose:  456\n",
      "Number of items considered BY2_5dias (98)i:  1\n",
      "Number of items considered 15:  1\n",
      "Number of items considered BY2_5dias (66)i:  1\n",
      "Number of items considered 28:  1\n",
      "DELETING UNALLOWED CLASSES\n",
      "...\n",
      "...\n",
      "...\n",
      "Number of items considered unclassifiable:  52\n",
      "Number of items considered not a cell:  50\n",
      "Number of items considered interfase:  1358\n",
      "Number of items considered mitose:  456\n"
     ]
    }
   ],
   "source": [
    "for classy in features['class'].unique():\n",
    "    print('Number of items considered '+str(classy)+':  ' +str(sum(features['class']==classy) ) )\n",
    "\n",
    "    \n",
    "print('DELETING UNALLOWED CLASSES\\n...\\n...\\n...')\n",
    "allowed_classes = ['unclassifiable','not a cell','interfase','mitose']\n",
    "\n",
    "features = features[features['class'].apply(lambda x: x in allowed_classes)]\n",
    "\n",
    "for classy in features['class'].unique():\n",
    "    print('Number of items considered '+str(classy)+':  ' +str(sum(features['class']==classy) ) )\n"
   ]
  },
  {
   "cell_type": "code",
   "execution_count": 6,
   "metadata": {
    "collapsed": false
   },
   "outputs": [
    {
     "name": "stdout",
     "output_type": "stream",
     "text": [
      "CPU times: user 1.22 s, sys: 60 ms, total: 1.28 s\n",
      "Wall time: 1.28 s\n",
      "CPU times: user 0 ns, sys: 0 ns, total: 0 ns\n",
      "Wall time: 1.78 ms\n"
     ]
    }
   ],
   "source": [
    "%time features[\"photo\"] = features.file.apply(lambda x: misc.imread(x))\n",
    "%time features[\"photo\"] = features.photo.apply(lambda x: x[:,:,-1])"
   ]
  },
  {
   "cell_type": "code",
   "execution_count": 7,
   "metadata": {
    "collapsed": false
   },
   "outputs": [
    {
     "name": "stdout",
     "output_type": "stream",
     "text": [
      "1\n"
     ]
    }
   ],
   "source": [
    "features['shape'] = features['photo'].apply(np.shape)\n",
    "print(np.sum(features['shape']!= (100,100)))\n",
    "features = features[features['shape']== (100,100)]"
   ]
  },
  {
   "cell_type": "code",
   "execution_count": 8,
   "metadata": {
    "collapsed": false
   },
   "outputs": [
    {
     "data": {
      "image/png": "[encoded data removed]",
      "text/plain": [
       "<matplotlib.figure.Figure at 0x7f2a6079fa50>"
      ]
     },
     "metadata": {},
     "output_type": "display_data"
    }
   ],
   "source": [
    "plt.imshow(features.photo[30])\n",
    "\n",
    "def getHoG(image):\n",
    "    HOG = ft.hog(image).reshape(1,-1)\n",
    "    return HOG\n",
    "\n",
    "def getLBP(image):\n",
    "    hLBP = np.array([]).reshape(1,-1)\n",
    "    for P in range(4,20,2):\n",
    "        for R in range(2,10,2):\n",
    "            LBP = ft.local_binary_pattern(image, P, R, 'uniform').reshape(-1,1)\n",
    "            hLBP = np.hstack((np.histogram(LBP,50,range=(0,50))[0].reshape(1,-1), hLBP))\n",
    "\n",
    "    return hLBP[0]"
   ]
  },
  {
   "cell_type": "code",
   "execution_count": 9,
   "metadata": {
    "collapsed": false
   },
   "outputs": [
    {
     "name": "stdout",
     "output_type": "stream",
     "text": [
      "CPU times: user 4.51 s, sys: 92 ms, total: 4.6 s\n",
      "Wall time: 4.54 s\n",
      "CPU times: user 2min 30s, sys: 136 ms, total: 2min 30s\n",
      "Wall time: 2min 30s\n"
     ]
    }
   ],
   "source": [
    "%time features['HoG'] = features.photo.apply(getHoG)\n",
    "%time features['LBP'] = features.photo.apply(getLBP)"
   ]
  },
  {
   "cell_type": "code",
   "execution_count": 10,
   "metadata": {
    "collapsed": true
   },
   "outputs": [],
   "source": [
    "from numpy.fft import fft2\n",
    "def abs_pha_fft(image):\n",
    "    imfft = fft2(image)\n",
    "    return np.hstack([np.abs(imfft).reshape(1,-1), np.angle(imfft).reshape(1,-1)])\n",
    "features['fft'] = features.photo.apply(abs_pha_fft)"
   ]
  },
  {
   "cell_type": "code",
   "execution_count": 11,
   "metadata": {
    "collapsed": false
   },
   "outputs": [
    {
     "data": {
      "text/plain": [
       "LabelEncoder()"
      ]
     },
     "execution_count": 11,
     "metadata": {},
     "output_type": "execute_result"
    }
   ],
   "source": [
    "photo_features = features.copy()\n",
    "\n",
    "phase_classes = ['interfase','mitose']\n",
    "features = features[features['class'].apply(lambda x: x in phase_classes)]\n",
    "\n",
    "LE = LabelEncoder()\n",
    "LE.fit(phase_classes)"
   ]
  },
  {
   "cell_type": "code",
   "execution_count": 12,
   "metadata": {
    "collapsed": true
   },
   "outputs": [],
   "source": [
    "def isGoodPhoto(label):\n",
    "    if label in ['interfase','mitose']: return 1\n",
    "    else: return 0\n",
    "\n",
    "photo_features['class'] = photo_features['class'].apply(isGoodPhoto)"
   ]
  },
  {
   "cell_type": "markdown",
   "metadata": {},
   "source": [
    "# Feature generation"
   ]
  },
  {
   "cell_type": "code",
   "execution_count": 15,
   "metadata": {
    "collapsed": true
   },
   "outputs": [],
   "source": [
    "Xhog = np.array(features.HoG.tolist())[:,0,:]\n",
    "Xlbp = np.array(features.LBP.tolist())[:,:]\n",
    "FFT = np.array(features.fft.tolist())[:,0,:]\n",
    "\n",
    "\n",
    "Xfft = np.hstack([FFT,Xhog,Xlbp])"
   ]
  },
  {
   "cell_type": "code",
   "execution_count": 13,
   "metadata": {
    "collapsed": false
   },
   "outputs": [],
   "source": [
    "Yphoto = np.array(photo_features['class'].tolist())\n",
    "Y = np.array(LE.transform(features['class']).tolist())"
   ]
  },
  {
   "cell_type": "markdown",
   "metadata": {},
   "source": [
    "# Implementation\n"
   ]
  },
  {
   "cell_type": "markdown",
   "metadata": {
    "collapsed": false
   },
   "source": [
    "#### Suvrel"
   ]
  },
  {
   "cell_type": "code",
   "execution_count": 159,
   "metadata": {
    "collapsed": false
   },
   "outputs": [],
   "source": [
    "from metriclearning import suvrel\n",
    "from sklearn.preprocessing import StandardScaler\n",
    "from sklearn.pipeline import Pipeline\n",
    "\n",
    "class Suvrel():\n",
    "    def __init__(self):\n",
    "        pass\n",
    "        \n",
    "    def fit(self,X,y):\n",
    "        self.gamma_ = suvrel(X,y)\n",
    "        \n",
    "    def transform(self,X,y = None):\n",
    "        return self.gamma_*X\n",
    "    \n",
    "    def fit_transform(self,X,y=None):\n",
    "        self.fit(X,y)\n",
    "        return self.transform(X,y)\n",
    "\n",
    "    def get_params(self,deep=True):\n",
    "        return {}\n",
    "    \n",
    "    def set_params(self):\n",
    "        return self"
   ]
  },
  {
   "cell_type": "markdown",
   "metadata": {},
   "source": [
    "#### Scaler/normalization"
   ]
  },
  {
   "cell_type": "code",
   "execution_count": 104,
   "metadata": {
    "collapsed": true
   },
   "outputs": [],
   "source": [
    "suv=Suvrel()\n",
    "suv.fit(Xfft,Y)"
   ]
  },
  {
   "cell_type": "code",
   "execution_count": 106,
   "metadata": {
    "collapsed": true
   },
   "outputs": [],
   "source": [
    "Xt = suv.transform(Xfft,Y)"
   ]
  },
  {
   "cell_type": "markdown",
   "metadata": {},
   "source": [
    "#### Pipeline"
   ]
  },
  {
   "cell_type": "code",
   "execution_count": 139,
   "metadata": {
    "collapsed": false
   },
   "outputs": [],
   "source": [
    "classifiers = [\n",
    "    SVC(),\n",
    "    LinearSVC(),\n",
    "    DecisionTreeClassifier(),\n",
    "    LogisticRegression()\n",
    "]"
   ]
  },
  {
   "cell_type": "code",
   "execution_count": 141,
   "metadata": {
    "collapsed": false
   },
   "outputs": [],
   "source": [
    "suvel_transform = Suvrel()\n",
    "scaler = StandardScaler()\n",
    "pca = PCA(n_components=1200)\n",
    "\n",
    "\n",
    "noScaleResults = []\n",
    "scaledResults = []\n",
    "pcaResults = []\n",
    "\n",
    "for clf in classifiers:\n",
    "    noScalePipe = Pipeline([('suv', suvel_transform),('classifier',clf)])\n",
    "    scalePipe = Pipeline([ ('scaler',scaler), ('suv',suvel_transform) ,('classifier',clf)] )\n",
    "    pcaPipe = Pipeline([ ('scaler',scaler), ('suv',suvel_transform), ('pca', pca),('classifier',clf)] )\n",
    "    \n",
    "    noScaleResults.append(cross_val_score(noScalePipe,Xfft,Y,cv=5,scoring='f1') )\n",
    "    scaledResults.append(cross_val_score(scalePipe,Xfft,Y,cv=5,scoring='f1') )\n",
    "    pcaResults.append(cross_val_score(pcaPipe,Xfft,Y,cv=5,scoring='f1') )\n",
    "    \n",
    "noScaleResults = np.array(noScaleResults)\n",
    "scaledResults = np.array(scaledResults)\n",
    "pcaResults = np.array(pcaResults)"
   ]
  },
  {
   "cell_type": "code",
   "execution_count": 142,
   "metadata": {
    "collapsed": false
   },
   "outputs": [
    {
     "name": "stdout",
     "output_type": "stream",
     "text": [
      "[[ 0.62666667  0.35897436  0.40350877  0.40350877  0.38938053]\n",
      " [ 0.40350877  0.10416667  0.          0.401766    0.02150538]\n",
      " [ 0.70642202  0.65306122  0.53807107  0.61538462  0.62420382]\n",
      " [ 0.26388889  0.21238938  0.10416667  0.21935484  0.25503356]]\n",
      "[ 0.43640782  0.18618936  0.62742855  0.21096667]\n",
      "[ 0.09650972  0.18011998  0.05484016  0.05695837]\n"
     ]
    }
   ],
   "source": [
    "print(noScaleResults)\n",
    "print(noScaleResults.mean(axis=1))\n",
    "print(noScaleResults.std(axis=1))"
   ]
  },
  {
   "cell_type": "code",
   "execution_count": 143,
   "metadata": {
    "collapsed": false
   },
   "outputs": [
    {
     "name": "stdout",
     "output_type": "stream",
     "text": [
      "[[ 0.          0.          0.          0.          0.        ]\n",
      " [ 0.76146789  0.77777778  0.65        0.75        0.67114094]\n",
      " [ 0.70192308  0.64210526  0.46927374  0.61988304  0.61349693]\n",
      " [ 0.77884615  0.7195122   0.62162162  0.72151899  0.53030303]]\n",
      "[ 0.          0.72207732  0.60933641  0.6743604 ]\n",
      "[ 0.          0.05142663  0.07667096  0.08799295]\n"
     ]
    }
   ],
   "source": [
    "print(scaledResults)\n",
    "print(scaledResults.mean(axis=1))\n",
    "print(scaledResults.std(axis=1))"
   ]
  },
  {
   "cell_type": "code",
   "execution_count": 144,
   "metadata": {
    "collapsed": false
   },
   "outputs": [
    {
     "name": "stdout",
     "output_type": "stream",
     "text": [
      "[[ 0.          0.          0.          0.          0.        ]\n",
      " [ 0.76146789  0.77777778  0.65        0.75        0.67114094]\n",
      " [ 0.70967742  0.59574468  0.45689655  0.62962963  0.57718121]\n",
      " [ 0.77884615  0.7195122   0.62162162  0.72151899  0.53030303]]\n",
      "[ 0.          0.72207732  0.5938259   0.6743604 ]\n",
      "[ 0.          0.05142663  0.08213873  0.08799295]\n"
     ]
    }
   ],
   "source": [
    "print(pcaResults)\n",
    "print(pcaResults.mean(axis=1))\n",
    "print(pcaResults.std(axis=1))"
   ]
  },
  {
   "cell_type": "code",
   "execution_count": 160,
   "metadata": {
    "collapsed": false
   },
   "outputs": [
    {
     "name": "stdout",
     "output_type": "stream",
     "text": [
      "Melhores parametros SVC: \n",
      "{'clf__C': 2, 'clf__class_weight': 'balanced'}\n",
      "Melhores parametros Regressao Logistica: \n",
      "{'clf__C': 3, 'clf__class_weight': 'balanced'}\n",
      "CPU times: user 3h 16min 19s, sys: 49min 24s, total: 4h 5min 43s\n",
      "Wall time: 1h 17min 47s\n"
     ]
    }
   ],
   "source": [
    "%%time\n",
    "params = {'clf__C':[0.01,0.1,1,2,3],'clf__class_weight':[{0:1,1:1},'balanced']}\n",
    "suvrel_transform = Suvrel()\n",
    "scaler = StandardScaler()\n",
    "pca = PCA(n_components=1200)\n",
    "\n",
    "clf1 = Pipeline([ ('scaler',scaler), ('suv',suvrel_transform), ('pca', pca),('clf',LinearSVC())] )\n",
    "grid1 = GridSearchCV(clf1,params,cv=5,scoring='f1')\n",
    "grid1.fit(Xfft,Y)\n",
    "\n",
    "clf2 = Pipeline([ ('scaler',scaler), ('suv',suvrel_transform), ('pca', pca),('clf',LogisticRegression()) ] )\n",
    "grid2 = GridSearchCV(clf2,params,cv=5,scoring='f1')\n",
    "grid2.fit(Xfft,Y)\n",
    "\n",
    "print('Melhores parametros SVC: ')\n",
    "print(grid1.best_params_)\n",
    "print('Melhores parametros Regressao Logistica: ')\n",
    "print(grid2.best_params_)"
   ]
  },
  {
   "cell_type": "code",
   "execution_count": 161,
   "metadata": {
    "collapsed": false
   },
   "outputs": [
    {
     "data": {
      "text/plain": [
       "array([ 0.6875    ,  0.70646766,  0.65641026,  0.77348066,  0.71428571])"
      ]
     },
     "execution_count": 161,
     "metadata": {},
     "output_type": "execute_result"
    }
   ],
   "source": [
    "clflogist = Pipeline([ ('scaler',scaler), ('suv',suvrel_transform), ('pca', pca),('clf',LogisticRegression(C=3,class_weight='balanced')) ] )\n",
    "regresult = cross_val_score(clflogist,Xfft,Y,cv=5,scoring='f1')\n",
    "regresult"
   ]
  },
  {
   "cell_type": "code",
   "execution_count": 162,
   "metadata": {
    "collapsed": false
   },
   "outputs": [
    {
     "name": "stdout",
     "output_type": "stream",
     "text": [
      "0.707628859074\n",
      "0.0384984114094\n"
     ]
    }
   ],
   "source": [
    "print(regresult.mean())\n",
    "print(regresult.std())"
   ]
  },
  {
   "cell_type": "code",
   "execution_count": 163,
   "metadata": {
    "collapsed": false
   },
   "outputs": [
    {
     "data": {
      "text/plain": [
       "array([ 0.73191489,  0.7755102 ,  0.64804469,  0.77966102,  0.74698795])"
      ]
     },
     "execution_count": 163,
     "metadata": {},
     "output_type": "execute_result"
    }
   ],
   "source": [
    "clfsvc = Pipeline([ ('scaler',scaler), ('suv',suvrel_transform), ('pca', pca),('clf',LinearSVC(C=2,class_weight='balanced')) ] )\n",
    "svcresult = cross_val_score(clfsvc,Xfft,Y,cv=5,scoring='f1')\n",
    "svcresult"
   ]
  },
  {
   "cell_type": "code",
   "execution_count": 164,
   "metadata": {
    "collapsed": false
   },
   "outputs": [
    {
     "name": "stdout",
     "output_type": "stream",
     "text": [
      "0.736423751838\n",
      "0.0476235279126\n"
     ]
    }
   ],
   "source": [
    "print(svcresult.mean())\n",
    "print(svcresult.std())"
   ]
  },
  {
   "cell_type": "code",
   "execution_count": 166,
   "metadata": {
    "collapsed": false
   },
   "outputs": [],
   "source": [
    "clfsvc.fit(Xfft[:1300,:],Y[:1300])\n",
    "ypred = clfsvc.predict(Xfft[1300:,:])"
   ]
  },
  {
   "cell_type": "code",
   "execution_count": 167,
   "metadata": {
    "collapsed": false
   },
   "outputs": [
    {
     "data": {
      "text/plain": [
       "array([[307,  21],\n",
       "       [ 58, 127]])"
      ]
     },
     "execution_count": 167,
     "metadata": {},
     "output_type": "execute_result"
    }
   ],
   "source": [
    "from sklearn.metrics import confusion_matrix\n",
    "confusion_matrix(Y[1300:],ypred)"
   ]
  },
  {
   "cell_type": "code",
   "execution_count": 168,
   "metadata": {
    "collapsed": false
   },
   "outputs": [
    {
     "data": {
      "text/plain": [
       "0.8460038986354775"
      ]
     },
     "execution_count": 168,
     "metadata": {},
     "output_type": "execute_result"
    }
   ],
   "source": [
    "434/513"
   ]
  },
  {
   "cell_type": "code",
   "execution_count": 169,
   "metadata": {
    "collapsed": false
   },
   "outputs": [
    {
     "data": {
      "text/plain": [
       "0.6864864864864865"
      ]
     },
     "execution_count": 169,
     "metadata": {},
     "output_type": "execute_result"
    }
   ],
   "source": [
    "127/185"
   ]
  },
  {
   "cell_type": "code",
   "execution_count": 170,
   "metadata": {
    "collapsed": false
   },
   "outputs": [
    {
     "data": {
      "text/plain": [
       "0.9359756097560976"
      ]
     },
     "execution_count": 170,
     "metadata": {},
     "output_type": "execute_result"
    }
   ],
   "source": [
    "307/328"
   ]
  },
  {
   "cell_type": "markdown",
   "metadata": {},
   "source": [
    "# Free Visualization"
   ]
  },
  {
   "cell_type": "code",
   "execution_count": null,
   "metadata": {
    "collapsed": false
   },
   "outputs": [],
   "source": [
    "clf = grid.best_estimator_\n",
    "clf.fit(Xfft,Y)\n",
    "coefs = clf.coef_"
   ]
  },
  {
   "cell_type": "code",
   "execution_count": null,
   "metadata": {
    "collapsed": false
   },
   "outputs": [],
   "source": [
    "sortidx = np.argsort(np.abs(coefs))\n",
    "print(sortidx[:2])\n",
    "ids = sortidx[0,[0,2]]\n",
    "ids"
   ]
  },
  {
   "cell_type": "code",
   "execution_count": null,
   "metadata": {
    "collapsed": false
   },
   "outputs": [],
   "source": [
    "ids = sortidx[0,[1,5]]\n",
    "toPlotX = Xfft[:,ids]\n",
    "mitX = toPlotX[Y==1]\n",
    "intX = toPlotX[Y==0]\n",
    "plt.title('Most weighted features')\n",
    "plt.plot(mitX[:,0],mitX[:,1],'o',label='Mitosis')\n",
    "plt.plot(intX[:,0],intX[:,1],'x',label='Interphasis')\n",
    "plt.xlabel('Feature 25903')\n",
    "plt.ylabel('Feature 27308')\n",
    "plt.legend()"
   ]
  },
  {
   "cell_type": "code",
   "execution_count": null,
   "metadata": {
    "collapsed": false
   },
   "outputs": [],
   "source": [
    "ids = sortidx[0,[3,40]]\n",
    "toPlotX = Xfft[:,ids]\n",
    "mitX = toPlotX[Y==1]\n",
    "intX = toPlotX[Y==0]\n",
    "plt.plot(mitX[:,0],mitX[:,1],'o')\n",
    "plt.plot(intX[:,0],intX[:,1],'x')"
   ]
  },
  {
   "cell_type": "code",
   "execution_count": null,
   "metadata": {
    "collapsed": false
   },
   "outputs": [],
   "source": [
    "ids = sortidx[0,[0,2]]\n",
    "toPlotX = Xfft[:,ids]\n",
    "mitX = toPlotX[Y==1]\n",
    "intX = toPlotX[Y==0]\n",
    "plt.title('Closer look at most weighted')\n",
    "plt.plot(mitX[:,0],mitX[:,1],'o',label='Mitosis')\n",
    "plt.plot(intX[:,0],intX[:,1],'x',label='Interphasis')\n",
    "plt.xlabel('Feature 25903'); plt.xlim([0,500])\n",
    "plt.ylabel('Feature 27308'); plt.ylim([0,500])\n",
    "plt.legend()"
   ]
  },
  {
   "cell_type": "code",
   "execution_count": null,
   "metadata": {
    "collapsed": false
   },
   "outputs": [],
   "source": [
    "Xtrain,Xtest,Ytrain,Ytest = train_test_split(Xfft,Y)\n",
    "\n",
    "clf = LogisticRegression(class_weight='balanced', C = 3.8)\n",
    "clf.fit(Xtrain,Ytrain)\n",
    "coefs = clf.coef_\n",
    "sortidx = np.argsort(coefs)\n",
    "print(sortidx[:2])"
   ]
  },
  {
   "cell_type": "code",
   "execution_count": null,
   "metadata": {
    "collapsed": true
   },
   "outputs": [],
   "source": [
    "Ypred = clf.predict(Xtest)"
   ]
  },
  {
   "cell_type": "code",
   "execution_count": null,
   "metadata": {
    "collapsed": false
   },
   "outputs": [],
   "source": [
    "intX.shape"
   ]
  },
  {
   "cell_type": "code",
   "execution_count": null,
   "metadata": {
    "collapsed": false
   },
   "outputs": [],
   "source": [
    "ids=sortidx[0,[0,-1]]\n",
    "\n",
    "mitX = Xtest[Ytest==1]; mitX = mitX[:,ids]\n",
    "intX = Xtest[Ytest==0]; intX = intX[:,ids]\n",
    "\n",
    "mitrX = Xtest[np.logical_and(Ypred==1,Ytest ==1),:]; mitrX = mitrX[:,ids]\n",
    "mitwX = Xtest[np.logical_and(Ypred==0,Ytest ==1),:]; mitwX = mitwX[:,ids]\n",
    "intrX = Xtest[np.logical_and(Ypred==0,Ytest ==0),:]; intrX = intrX[:,ids]\n",
    "intwX = Xtest[np.logical_and(Ypred==1,Ytest ==0),:]; intwX = intwX[:,ids]"
   ]
  },
  {
   "cell_type": "code",
   "execution_count": null,
   "metadata": {
    "collapsed": false
   },
   "outputs": [],
   "source": [
    "mitwX.shape"
   ]
  },
  {
   "cell_type": "code",
   "execution_count": null,
   "metadata": {
    "collapsed": false
   },
   "outputs": [],
   "source": [
    "plt.title('Most relevant features')\n",
    "plt.plot(mitrX[:,0],mitrX[:,1],'o',color='blue',label='Right Mitosis')\n",
    "plt.plot(mitwX[:,0],mitwX[:,1],'o',color='red',label='Wrong Mitosis')\n",
    "plt.plot(intrX[:,0],intrX[:,1],'x',color='blue',label='Right Interphasis')\n",
    "plt.plot(intwX[:,0],intwX[:,1],'x',color='red',label='Wrong Interphasis')\n",
    "plt.xlabel('Feature 26699')\n",
    "plt.ylabel('Feature 18177')\n",
    "plt.legend()"
   ]
  },
  {
   "cell_type": "code",
   "execution_count": null,
   "metadata": {
    "collapsed": false
   },
   "outputs": [],
   "source": [
    "plt.title('Closer look at most relevant')\n",
    "plt.plot(mitrX[:,0],mitrX[:,1],'o',color='blue',label='Right Mitosis')\n",
    "plt.plot(mitwX[:,0],mitwX[:,1],'o',color='red',label='Wrong Mitosis')\n",
    "plt.plot(intrX[:,0],intrX[:,1],'x',color='blue',label='Right Interphasis')\n",
    "plt.plot(intwX[:,0],intwX[:,1],'x',color='red',label='Wrong Interphasis')\n",
    "plt.xlabel('Feature 26699')\n",
    "plt.ylabel('Feature 18177')\n",
    "plt.xlim([0,2000])\n",
    "plt.ylim([0,2000])\n",
    "plt.legend()"
   ]
  }
 ],
 "metadata": {
  "kernelspec": {
   "display_name": "py2",
   "language": "python",
   "name": "py2"
  },
  "language_info": {
   "codemirror_mode": {
    "name": "ipython",
    "version": 2
   },
   "file_extension": ".py",
   "mimetype": "text/x-python",
   "name": "python",
   "nbconvert_exporter": "python",
   "pygments_lexer": "ipython2",
   "version": "2.7.6"
  }
 },
 "nbformat": 4,
 "nbformat_minor": 0
}
